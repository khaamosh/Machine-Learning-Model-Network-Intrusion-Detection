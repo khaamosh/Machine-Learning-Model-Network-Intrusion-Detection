{
 "cells": [
  {
   "cell_type": "code",
   "execution_count": 1,
   "metadata": {},
   "outputs": [],
   "source": [
    "import math, time, random, datetime\n",
    "import numpy as np\n",
    "import pandas as pd\n",
    "import matplotlib.pyplot as plt\n",
    "plt.style.use('seaborn')\n",
    "import warnings\n",
    "warnings.filterwarnings('ignore')\n",
    "import seaborn as sns\n",
    "#import missingno\n",
    "import pickle\n",
    "\n",
    "from sklearn import metrics"
   ]
  },
  {
   "cell_type": "markdown",
   "metadata": {},
   "source": [
    "### The dataset is being loaded here"
   ]
  },
  {
   "cell_type": "code",
   "execution_count": 2,
   "metadata": {},
   "outputs": [],
   "source": [
    "dataSet_location = \"UNSW_NB15_training-set.csv\"\n",
    "test_dataSet = \"UNSW_NB15_testing-set.csv\"\n",
    "\n",
    "data_train = pd.read_csv(dataSet_location)\n",
    "data_test  = pd.read_csv(test_dataSet)"
   ]
  },
  {
   "cell_type": "code",
   "execution_count": 3,
   "metadata": {},
   "outputs": [],
   "source": [
    "def EDA_data(data):\n",
    "    \n",
    "    #taking the categorical data types of the columns\n",
    "    cols_cat = data.select_dtypes('object').columns\n",
    "    \n",
    "    #then the numeric data types for each column data\n",
    "    cols_numeric = data._get_numeric_data().columns \n",
    "    \n",
    "    #cleaning the data \n",
    "    #data['service'].unique() \n",
    "    \n",
    "    #remove the - and None values of the data set to 0\n",
    "    data['service']= np.where(data['service'] == '-', 'None', data['service'])\n",
    "    \n",
    "    #print(data_train['service'].unique())\n",
    "    #list of the data columns\n",
    "    cols = data.columns\n",
    "    \n",
    "    #iterating over the columns list\n",
    "    for col in cols:\n",
    "        data[col] = np.where(data[col] == '-', 'None', data[col])\n",
    "    \n",
    "    #now removing the axis and the rest of the features\n",
    "    data = data.drop(['id'], axis=1)\n",
    "    \n",
    "    data.drop(['attack_cat'], axis=1, inplace=True)\n",
    "    \n",
    "    #one hot encoding of the data\n",
    "    cols_cat = cols_cat.drop(['attack_cat'])\n",
    "    \n",
    "    #using dummy columns for the data\n",
    "    data_encoded = pd.get_dummies(data,columns=cols_cat)\n",
    "    \n",
    "    #now we will normalize the data so that the model is run smoothly\n",
    "    cols_numeric = list(cols_numeric)\n",
    "    \n",
    "    cols_numeric.remove('label')\n",
    "    cols_numeric.remove('id')\n",
    "    \n",
    "    #changing the data type to float, since they are one hot encoded it will be 0.0 or 1.0\n",
    "    data_encoded[cols_numeric] = data_encoded[cols_numeric].astype('float') \n",
    "    \n",
    "    data_encoded[cols_numeric] = (data_encoded[cols_numeric] - np.min(data_encoded[cols_numeric])) / np.std(data_encoded[cols_numeric])\n",
    "    \n",
    "    return data_encoded\n",
    "    \n",
    "    \n",
    "    \n",
    "        \n",
    "    "
   ]
  },
  {
   "cell_type": "code",
   "execution_count": 4,
   "metadata": {},
   "outputs": [],
   "source": [
    "def common_parameters_model(train, test):\n",
    "    \n",
    "    #find the set for test columns\n",
    "    col_test = test.columns.to_list()\n",
    "    set_test = set(col_test)\n",
    "    \n",
    "    #find the set for the train columns\n",
    "    col_train = data_clean.columns.to_list()\n",
    "    set_train = set(data_clean)\n",
    "    \n",
    "    #common parameters\n",
    "    common_set = set_test.intersection(set_train)\n",
    "    \n",
    "    return common_set\n",
    "    \n",
    "    "
   ]
  },
  {
   "cell_type": "markdown",
   "metadata": {},
   "source": [
    "#### The cleaning of the data is being done here"
   ]
  },
  {
   "cell_type": "code",
   "execution_count": 5,
   "metadata": {},
   "outputs": [],
   "source": [
    "data_clean = EDA_data(data_train)\n",
    "test_clean = EDA_data(data_test)"
   ]
  },
  {
   "cell_type": "code",
   "execution_count": 6,
   "metadata": {},
   "outputs": [],
   "source": [
    "common_cols = common_parameters_model(data_clean, test_clean)"
   ]
  },
  {
   "cell_type": "code",
   "execution_count": 7,
   "metadata": {},
   "outputs": [],
   "source": [
    "#now both the data sets need to have the same columns\n",
    "data_clean = data_clean[common_cols]\n",
    "test_clean = test_clean[common_cols]\n"
   ]
  },
  {
   "cell_type": "code",
   "execution_count": 8,
   "metadata": {},
   "outputs": [],
   "source": [
    "from sklearn import model_selection\n",
    "from sklearn import metrics\n",
    "X = data_clean.drop('label', axis=1)\n",
    "Y = data_clean['label']"
   ]
  },
  {
   "cell_type": "code",
   "execution_count": 9,
   "metadata": {},
   "outputs": [],
   "source": [
    "#global X"
   ]
  },
  {
   "cell_type": "code",
   "execution_count": 10,
   "metadata": {},
   "outputs": [],
   "source": [
    "def fit_algo(algo, x, y, cv,flag=0):\n",
    "    #Fit the model\n",
    "    model = algo.fit(x, y)\n",
    "    \n",
    "    #Check its score\n",
    "    acc = round(model.score(x, y) *100, 2)\n",
    "    y_pred = model_selection.cross_val_predict(algo, x, y, cv=cv, n_jobs = -1)\n",
    "    \n",
    "    acc_cv = round(metrics.accuracy_score(Y,y_pred)*100, 2)\n",
    "\n",
    "    return y_pred, acc, acc_cv, model"
   ]
  },
  {
   "cell_type": "code",
   "execution_count": 11,
   "metadata": {},
   "outputs": [],
   "source": [
    "def predict_algo(model, X, Y, cv):\n",
    "    \n",
    "    y_pred = model.predict(X)\n",
    "    \n",
    "    acc = metrics.accuracy_score(Y ,y_pred)\n",
    "    \n",
    "    #acc = round(model.score(Y,y_pred)*100,2)\n",
    "    \n",
    "    y_pred_cv = model_selection.cross_val_predict(model, X, Y, cv=cv, n_jobs = -1)\n",
    "    \n",
    "    acc_cv = round(metrics.accuracy_score(Y,y_pred_cv) * 100 ,2)\n",
    "    \n",
    "    return acc, acc_cv"
   ]
  },
  {
   "cell_type": "markdown",
   "metadata": {},
   "source": [
    "### Decision Tree was used for classification"
   ]
  },
  {
   "cell_type": "code",
   "execution_count": 12,
   "metadata": {},
   "outputs": [
    {
     "name": "stdout",
     "output_type": "stream",
     "text": [
      "Accuracy: 99.99\n",
      "Accuracy of CV: 94.14\n",
      "Execution time: 11.25972318649292\n"
     ]
    }
   ],
   "source": [
    "from sklearn.tree import DecisionTreeClassifier\n",
    "start_time = time.time()\n",
    "pred_now, acc_dt, acc_cv_dt, dt = fit_algo(DecisionTreeClassifier(random_state = 1)\n",
    "                                        , X, Y, 10)\n",
    "\n",
    "dt_time = (time.time() - start_time)\n",
    "\n",
    "print(\"Accuracy: %s\" % acc_dt)\n",
    "print(\"Accuracy of CV: %s\" % acc_cv_dt)\n",
    "print(\"Execution time: %s\" % dt_time)"
   ]
  },
  {
   "cell_type": "markdown",
   "metadata": {},
   "source": [
    "##### DT predictions"
   ]
  },
  {
   "cell_type": "code",
   "execution_count": 13,
   "metadata": {},
   "outputs": [
    {
     "name": "stdout",
     "output_type": "stream",
     "text": [
      "Accuracy: 0.7450738846020041\n",
      "Accuracy of CV: 92.34\n",
      "Execution time: 25.914119482040405\n"
     ]
    }
   ],
   "source": [
    "X_test = test_clean.drop('label', axis=1)\n",
    "Y_test = test_clean['label']\n",
    "\n",
    "acc, acc_cv_dt = predict_algo(dt, X_test, Y_test, 10)\n",
    "\n",
    "dt_time = (time.time() - start_time)\n",
    "\n",
    "print(\"Accuracy: %s\" % acc)\n",
    "print(\"Accuracy of CV: %s\" % acc_cv_dt)\n",
    "print(\"Execution time: %s\" % dt_time)"
   ]
  },
  {
   "cell_type": "code",
   "execution_count": 14,
   "metadata": {},
   "outputs": [
    {
     "name": "stdout",
     "output_type": "stream",
     "text": [
      "Accuracy: 91.15\n",
      "Accuracy of CV: 89.33\n",
      "Execution time: 21.75216317176819\n"
     ]
    }
   ],
   "source": [
    "from sklearn.linear_model import LogisticRegression\n",
    "start_time = time.time()\n",
    "pred_now, acc_lr, acc_cv_lr, lr = fit_algo(LogisticRegression(C=0.1)\n",
    "                                        , X, Y, 10)\n",
    "\n",
    "lr_time = (time.time() - start_time)\n",
    "\n",
    "print(\"Accuracy: %s\" % acc_lr)\n",
    "print(\"Accuracy of CV: %s\" % acc_cv_lr)\n",
    "print(\"Execution time: %s\" % lr_time)"
   ]
  },
  {
   "cell_type": "code",
   "execution_count": 15,
   "metadata": {},
   "outputs": [
    {
     "name": "stdout",
     "output_type": "stream",
     "text": [
      "Accuracy: 0.8780718713820498\n",
      "Accuracy of CV: 92.86\n",
      "Execution time: 116.65996479988098\n"
     ]
    }
   ],
   "source": [
    "acc, acc_cv_lr = predict_algo(lr, X_test, Y_test, 10)\n",
    "\n",
    "lr_time = (time.time() - start_time)\n",
    "\n",
    "print(\"Accuracy: %s\" % acc)\n",
    "print(\"Accuracy of CV: %s\" % acc_cv_lr)\n",
    "print(\"Execution time: %s\" % lr_time)"
   ]
  },
  {
   "cell_type": "code",
   "execution_count": 16,
   "metadata": {},
   "outputs": [
    {
     "name": "stdout",
     "output_type": "stream",
     "text": [
      "Accuracy: 99.99\n",
      "Accuracy of CV: 96.0\n",
      "Execution time: 78.40587115287781\n"
     ]
    }
   ],
   "source": [
    "from sklearn.ensemble import RandomForestClassifier\n",
    "start_time = time.time()\n",
    "pred_now, acc_rf2, acc_cv_rf2, rf2 = fit_algo(RandomForestClassifier(n_estimators = 100, criterion='entropy')\n",
    "                                        , X, Y, 10)\n",
    "\n",
    "rf2_time = (time.time() - start_time)\n",
    "\n",
    "print(\"Accuracy: %s\" % acc_rf2)\n",
    "print(\"Accuracy of CV: %s\" % acc_cv_rf2)\n",
    "print(\"Execution time: %s\" % rf2_time)"
   ]
  },
  {
   "cell_type": "code",
   "execution_count": 17,
   "metadata": {},
   "outputs": [
    {
     "name": "stdout",
     "output_type": "stream",
     "text": [
      "Accuracy: 0.8978789900821827\n",
      "Accuracy of CV: 92.85\n",
      "Execution time: 116.65996479988098\n"
     ]
    }
   ],
   "source": [
    "acc, acc_cv_lr = predict_algo(rf2, X_test, Y_test, 10)\n",
    "\n",
    "rf_time = (time.time() - start_time)\n",
    "\n",
    "print(\"Accuracy: %s\" % acc)\n",
    "print(\"Accuracy of CV: %s\" % acc_cv_lr)\n",
    "print(\"Execution time: %s\" % lr_time)"
   ]
  },
  {
   "cell_type": "code",
   "execution_count": 20,
   "metadata": {},
   "outputs": [
    {
     "name": "stdout",
     "output_type": "stream",
     "text": [
      "Accuracy: 96.89\n",
      "Accuracy of CV: 92.98\n",
      "Execution time: 473.3488404750824\n"
     ]
    }
   ],
   "source": [
    "from sklearn.neural_network import MLPClassifier\n",
    "\n",
    "start_time = time.time()\n",
    "pred_now, acc_nn, acc_cv_nn, nn = fit_algo(MLPClassifier(hidden_layer_sizes = (40,), activation='relu', solver='adam')\n",
    "                                        , X, Y, 5)\n",
    "\n",
    "nn_time = (time.time() - start_time)\n",
    "\n",
    "print(\"Accuracy: %s\" % acc_nn)\n",
    "print(\"Accuracy of CV: %s\" % acc_cv_nn)\n",
    "print(\"Execution time: %s\" % nn_time)"
   ]
  },
  {
   "cell_type": "code",
   "execution_count": 21,
   "metadata": {},
   "outputs": [
    {
     "name": "stdout",
     "output_type": "stream",
     "text": [
      "Accuracy: 0.8971489839797879\n",
      "Accuracy of CV: 92.32\n",
      "Execution time: 1358.215576171875\n"
     ]
    }
   ],
   "source": [
    "acc, acc_cv_nn = predict_algo(nn, X_test, Y_test, 10)\n",
    "\n",
    "nn_time = (time.time() - start_time)\n",
    "\n",
    "print(\"Accuracy: %s\" % acc)\n",
    "print(\"Accuracy of CV: %s\" % acc_cv_nn)\n",
    "print(\"Execution time: %s\" % nn_time)"
   ]
  },
  {
   "cell_type": "code",
   "execution_count": 22,
   "metadata": {},
   "outputs": [
    {
     "name": "stdout",
     "output_type": "stream",
     "text": [
      "Accuracy: 65.28\n",
      "Accuracy of CV: 65.54\n",
      "Execution time: 11.431057214736938\n"
     ]
    }
   ],
   "source": [
    "from sklearn.naive_bayes import GaussianNB\n",
    "start_time = time.time()\n",
    "\n",
    "pred_now, acc_gnb, acc_cv_gnb, gnb= fit_algo(GaussianNB()\n",
    "                                        ,X,Y,5)\n",
    "\n",
    "gnb_time = (time.time() - start_time)\n",
    "\n",
    "print(\"Accuracy: %s\" % acc_gnb)\n",
    "print(\"Accuracy of CV: %s\" % acc_cv_gnb)\n",
    "print(\"Execution time: %s\" % gnb_time)"
   ]
  },
  {
   "cell_type": "code",
   "execution_count": 23,
   "metadata": {},
   "outputs": [
    {
     "name": "stdout",
     "output_type": "stream",
     "text": [
      "Accuracy: 0.6264421897901803\n",
      "Accuracy of CV: 48.1\n",
      "Execution time: 76.52244758605957\n"
     ]
    }
   ],
   "source": [
    "acc, acc_cv_gnb = predict_algo(gnb, X_test, Y_test, 10)\n",
    "\n",
    "gnb_time = (time.time() - start_time)\n",
    "\n",
    "print(\"Accuracy: %s\" % acc)\n",
    "print(\"Accuracy of CV: %s\" % acc_cv_gnb)\n",
    "print(\"Execution time: %s\" % gnb_time)"
   ]
  },
  {
   "cell_type": "code",
   "execution_count": 24,
   "metadata": {},
   "outputs": [
    {
     "name": "stdout",
     "output_type": "stream",
     "text": [
      "Accuracy: 96.04\n",
      "Accuracy of CV: 94.82\n",
      "Execution time: 232.19419288635254\n"
     ]
    }
   ],
   "source": [
    "from sklearn.ensemble import GradientBoostingClassifier\n",
    "start_time = time.time()\n",
    "\n",
    "pred_now, acc_gbt, acc_cv_gbt, gbt= fit_algo(GradientBoostingClassifier()\n",
    "                                        , X, Y, 10)\n",
    "\n",
    "gbt_time = (time.time() - start_time)\n",
    "\n",
    "print(\"Accuracy: %s\" % acc_gbt)\n",
    "print(\"Accuracy of CV: %s\" % acc_cv_gbt)\n",
    "print(\"Execution time: %s\" % gbt_time)"
   ]
  },
  {
   "cell_type": "code",
   "execution_count": 25,
   "metadata": {},
   "outputs": [
    {
     "name": "stdout",
     "output_type": "stream",
     "text": [
      "Accuracy: 0.8868547573014868\n",
      "Accuracy of CV: 92.41\n",
      "Execution time: 687.0232815742493\n"
     ]
    }
   ],
   "source": [
    "acc, acc_cv_gbt = predict_algo(gbt, X_test, Y_test, 10)\n",
    "\n",
    "gbt_time = (time.time() - start_time)\n",
    "\n",
    "print(\"Accuracy: %s\" % acc)\n",
    "print(\"Accuracy of CV: %s\" % acc_cv_gbt)\n",
    "print(\"Execution time: %s\" % gbt_time)"
   ]
  },
  {
   "cell_type": "code",
   "execution_count": null,
   "metadata": {},
   "outputs": [],
   "source": []
  },
  {
   "cell_type": "code",
   "execution_count": null,
   "metadata": {},
   "outputs": [],
   "source": []
  }
 ],
 "metadata": {
  "kernelspec": {
   "display_name": "Python 3",
   "language": "python",
   "name": "python3"
  },
  "language_info": {
   "codemirror_mode": {
    "name": "ipython",
    "version": 3
   },
   "file_extension": ".py",
   "mimetype": "text/x-python",
   "name": "python",
   "nbconvert_exporter": "python",
   "pygments_lexer": "ipython3",
   "version": "3.8.3"
  }
 },
 "nbformat": 4,
 "nbformat_minor": 4
}
